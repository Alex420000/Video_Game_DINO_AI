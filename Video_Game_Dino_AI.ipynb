{
 "cells": [
  {
   "cell_type": "code",
   "execution_count": 8,
   "metadata": {},
   "outputs": [
    {
     "name": "stdout",
     "output_type": "stream",
     "text": [
      "Looking in indexes: https://pypi.org/simple, https://download.pytorch.org/whl/cu113\n",
      "Collecting torch\n",
      "  Downloading https://download.pytorch.org/whl/cu113/torch-1.12.1%2Bcu113-cp38-cp38-linux_x86_64.whl (1837.7 MB)\n",
      "\u001b[K     |████████████████████████████████| 1837.7 MB 5.6 kB/s eta 0:00:011    |█████████                       | 513.3 MB 8.5 MB/s eta 0:02:37     |█████████████                   | 742.7 MB 2.6 MB/s eta 0:06:55475 kB/s eta 0:37:37▉          | 1253.4 MB 17.9 MB/s eta 0:00:33��██████████████████▎    | 1566.6 MB 10.4 MB/s eta 0:00:279 MB 10.4 MB/s eta 0:00:27████▏  | 1674.6 MB 16.1 MB/s eta 0:00:11�█▎ | 1736.2 MB 4.3 MB/s eta 0:00:24     |████████████████████████████████| 1834.8 MB 6.6 MB/s eta 0:00:01\n",
      "\u001b[?25hCollecting torchvision\n",
      "  Downloading https://download.pytorch.org/whl/cu113/torchvision-0.13.1%2Bcu113-cp38-cp38-linux_x86_64.whl (23.4 MB)\n",
      "\u001b[K     |████████████████████████████████| 23.4 MB 2.5 MB/s eta 0:00:0112.9 MB 742 kB/s eta 0:00:2800:23\n",
      "\u001b[?25hCollecting torchaudio\n",
      "  Downloading https://download.pytorch.org/whl/cu113/torchaudio-0.12.1%2Bcu113-cp38-cp38-linux_x86_64.whl (3.8 MB)\n",
      "\u001b[K     |████████████████████████████████| 3.8 MB 684 kB/s eta 0:00:01\n",
      "\u001b[?25hCollecting typing-extensions\n",
      "  Downloading typing_extensions-4.3.0-py3-none-any.whl (25 kB)\n",
      "Requirement already satisfied: requests in /usr/lib/python3/dist-packages (from torchvision) (2.22.0)\n",
      "Requirement already satisfied: pillow!=8.3.*,>=5.3.0 in /home/alexis/.local/lib/python3.8/site-packages (from torchvision) (9.2.0)\n",
      "Requirement already satisfied: numpy in /home/alexis/.local/lib/python3.8/site-packages (from torchvision) (1.23.1)\n",
      "Installing collected packages: typing-extensions, torch, torchvision, torchaudio\n",
      "\u001b[33m  WARNING: The scripts convert-caffe2-to-onnx, convert-onnx-to-caffe2 and torchrun are installed in '/home/alexis/.local/bin' which is not on PATH.\n",
      "  Consider adding this directory to PATH or, if you prefer to suppress this warning, use --no-warn-script-location.\u001b[0m\n",
      "Successfully installed torch-1.12.1+cu113 torchaudio-0.12.1+cu113 torchvision-0.13.1+cu113 typing-extensions-4.3.0\n"
     ]
    }
   ],
   "source": [
    "!pip install torch torchvision torchaudio --extra-index-url https://download.pytorch.org/whl/cu113"
   ]
  },
  {
   "cell_type": "code",
   "execution_count": 9,
   "metadata": {},
   "outputs": [
    {
     "name": "stdout",
     "output_type": "stream",
     "text": [
      "Package                Version             \n",
      "---------------------- --------------------\n",
      "asttokens              2.0.5               \n",
      "attrs                  19.3.0              \n",
      "Automat                0.8.0               \n",
      "backcall               0.2.0               \n",
      "blinker                1.4                 \n",
      "certifi                2019.11.28          \n",
      "chardet                3.0.4               \n",
      "Click                  7.0                 \n",
      "cloud-init             22.1                \n",
      "colorama               0.4.3               \n",
      "command-not-found      0.3                 \n",
      "configobj              5.0.6               \n",
      "constantly             15.1.0              \n",
      "cryptography           2.8                 \n",
      "cycler                 0.11.0              \n",
      "dbus-python            1.2.16              \n",
      "debugpy                1.6.0               \n",
      "decorator              5.1.1               \n",
      "distro                 1.4.0               \n",
      "distro-info            0.23ubuntu1         \n",
      "entrypoints            0.3                 \n",
      "executing              0.8.3               \n",
      "fonttools              4.34.4              \n",
      "httplib2               0.14.0              \n",
      "hyperlink              19.0.0              \n",
      "idna                   2.8                 \n",
      "importlib-metadata     1.5.0               \n",
      "incremental            16.10.1             \n",
      "ipykernel              6.13.1              \n",
      "ipython                8.4.0               \n",
      "jedi                   0.18.1              \n",
      "Jinja2                 2.10.1              \n",
      "joblib                 1.1.0               \n",
      "jsonpatch              1.22                \n",
      "jsonpointer            2.0                 \n",
      "jsonschema             3.2.0               \n",
      "jupyter-client         7.3.4               \n",
      "jupyter-core           4.10.0              \n",
      "keyring                18.0.1              \n",
      "kiwisolver             1.4.4               \n",
      "language-selector      0.1                 \n",
      "launchpadlib           1.10.13             \n",
      "lazr.restfulclient     0.14.2              \n",
      "lazr.uri               1.0.3               \n",
      "MarkupSafe             1.1.0               \n",
      "matplotlib             3.5.2               \n",
      "matplotlib-inline      0.1.3               \n",
      "more-itertools         4.2.0               \n",
      "nest-asyncio           1.5.5               \n",
      "netifaces              0.10.4              \n",
      "numpy                  1.23.1              \n",
      "oauthlib               3.1.0               \n",
      "packaging              21.3                \n",
      "parso                  0.8.3               \n",
      "pexpect                4.6.0               \n",
      "pickleshare            0.7.5               \n",
      "Pillow                 9.2.0               \n",
      "pip                    20.0.2              \n",
      "plotly                 5.9.0               \n",
      "prompt-toolkit         3.0.29              \n",
      "psutil                 5.9.1               \n",
      "pure-eval              0.2.2               \n",
      "pyasn1                 0.4.2               \n",
      "pyasn1-modules         0.2.1               \n",
      "Pygments               2.12.0              \n",
      "PyGObject              3.36.0              \n",
      "PyHamcrest             1.9.0               \n",
      "PyJWT                  1.7.1               \n",
      "pymacaroons            0.13.0              \n",
      "PyNaCl                 1.3.0               \n",
      "pyOpenSSL              19.0.0              \n",
      "pyparsing              3.0.9               \n",
      "pyrsistent             0.15.5              \n",
      "pyserial               3.4                 \n",
      "python-apt             2.0.0+ubuntu0.20.4.7\n",
      "python-dateutil        2.8.2               \n",
      "python-debian          0.1.36ubuntu1       \n",
      "PyYAML                 5.3.1               \n",
      "pyzmq                  23.1.0              \n",
      "requests               2.22.0              \n",
      "requests-unixsocket    0.2.0               \n",
      "scikit-learn           1.1.1               \n",
      "scipy                  1.8.1               \n",
      "SecretStorage          2.3.1               \n",
      "service-identity       18.1.0              \n",
      "setuptools             45.2.0              \n",
      "simplejson             3.16.0              \n",
      "six                    1.14.0              \n",
      "sklearn                0.0                 \n",
      "sos                    4.3                 \n",
      "ssh-import-id          5.10                \n",
      "stack-data             0.2.0               \n",
      "systemd-python         234                 \n",
      "tenacity               8.0.1               \n",
      "threadpoolctl          3.1.0               \n",
      "torch                  1.12.1+cu113        \n",
      "torchaudio             0.12.1+cu113        \n",
      "torchvision            0.13.1+cu113        \n",
      "tornado                6.1                 \n",
      "traitlets              5.2.2.post1         \n",
      "Twisted                18.9.0              \n",
      "typing-extensions      4.3.0               \n",
      "ubuntu-advantage-tools 27.6                \n",
      "ufw                    0.36                \n",
      "unattended-upgrades    0.1                 \n",
      "urllib3                1.25.8              \n",
      "wadllib                1.3.3               \n",
      "wcwidth                0.2.5               \n",
      "wheel                  0.34.2              \n",
      "zipp                   1.0.0               \n",
      "zope.interface         4.7.1               \n"
     ]
    }
   ],
   "source": [
    "!pip list"
   ]
  },
  {
   "cell_type": "code",
   "execution_count": 23,
   "metadata": {},
   "outputs": [
    {
     "name": "stdout",
     "output_type": "stream",
     "text": [
      "Collecting stable-baselines3\n",
      "  Downloading stable_baselines3-1.6.0-py3-none-any.whl (177 kB)\n",
      "\u001b[K     |████████████████████████████████| 177 kB 2.2 MB/s eta 0:00:01\n",
      "\u001b[?25hRequirement already satisfied: torch>=1.11 in /home/alexis/.local/lib/python3.8/site-packages (from stable-baselines3) (1.12.1+cu113)\n",
      "Collecting pandas\n",
      "  Downloading pandas-1.4.4-cp38-cp38-manylinux_2_17_x86_64.manylinux2014_x86_64.whl (11.7 MB)\n",
      "\u001b[K     |████████████████████████████████| 11.7 MB 13.2 MB/s eta 0:00:01\n",
      "\u001b[?25hCollecting cloudpickle\n",
      "  Downloading cloudpickle-2.1.0-py3-none-any.whl (25 kB)\n",
      "Requirement already satisfied: numpy in /home/alexis/.local/lib/python3.8/site-packages (from stable-baselines3) (1.23.1)\n",
      "Collecting gym==0.21\n",
      "  Downloading gym-0.21.0.tar.gz (1.5 MB)\n",
      "\u001b[K     |████████████████████████████████| 1.5 MB 9.1 MB/s eta 0:00:01\n",
      "\u001b[?25hRequirement already satisfied: matplotlib in /home/alexis/.local/lib/python3.8/site-packages (from stable-baselines3) (3.5.2)\n",
      "Requirement already satisfied: typing-extensions in /home/alexis/.local/lib/python3.8/site-packages (from torch>=1.11->stable-baselines3) (4.3.0)\n",
      "Requirement already satisfied: python-dateutil>=2.8.1 in /home/alexis/.local/lib/python3.8/site-packages (from pandas->stable-baselines3) (2.8.2)\n",
      "Collecting pytz>=2020.1\n",
      "  Downloading pytz-2022.2.1-py2.py3-none-any.whl (500 kB)\n",
      "\u001b[K     |████████████████████████████████| 500 kB 4.3 MB/s eta 0:00:01\n",
      "\u001b[?25hRequirement already satisfied: packaging>=20.0 in /home/alexis/.local/lib/python3.8/site-packages (from matplotlib->stable-baselines3) (21.3)\n",
      "Requirement already satisfied: pillow>=6.2.0 in /home/alexis/.local/lib/python3.8/site-packages (from matplotlib->stable-baselines3) (9.2.0)\n",
      "Requirement already satisfied: cycler>=0.10 in /home/alexis/.local/lib/python3.8/site-packages (from matplotlib->stable-baselines3) (0.11.0)\n",
      "Requirement already satisfied: kiwisolver>=1.0.1 in /home/alexis/.local/lib/python3.8/site-packages (from matplotlib->stable-baselines3) (1.4.4)\n",
      "Requirement already satisfied: pyparsing>=2.2.1 in /home/alexis/.local/lib/python3.8/site-packages (from matplotlib->stable-baselines3) (3.0.9)\n",
      "Requirement already satisfied: fonttools>=4.22.0 in /home/alexis/.local/lib/python3.8/site-packages (from matplotlib->stable-baselines3) (4.34.4)\n",
      "Requirement already satisfied: six>=1.5 in /usr/lib/python3/dist-packages (from python-dateutil>=2.8.1->pandas->stable-baselines3) (1.14.0)\n",
      "Building wheels for collected packages: gym\n",
      "  Building wheel for gym (setup.py) ... \u001b[?25ldone\n",
      "\u001b[?25h  Created wheel for gym: filename=gym-0.21.0-py3-none-any.whl size=1616824 sha256=c1c90fa6b30b65b86b1c6ab6574fa7d4582f8b779da9dff632d7f0cef0fd73ff\n",
      "  Stored in directory: /home/alexis/.cache/pip/wheels/27/6d/b3/a3a6e10704795c9b9000f1ab2dc480dfe7bed42f5972806e73\n",
      "Successfully built gym\n",
      "Installing collected packages: pytz, pandas, cloudpickle, gym, stable-baselines3\n",
      "Successfully installed cloudpickle-2.1.0 gym-0.21.0 pandas-1.4.4 pytz-2022.2.1 stable-baselines3-1.6.0\n"
     ]
    }
   ],
   "source": [
    "!pip install stable-baselines3"
   ]
  },
  {
   "cell_type": "code",
   "execution_count": 28,
   "metadata": {},
   "outputs": [
    {
     "name": "stdout",
     "output_type": "stream",
     "text": [
      "Collecting mss\n",
      "  Downloading mss-6.1.0-py3-none-any.whl (76 kB)\n",
      "\u001b[K     |████████████████████████████████| 76 kB 1.7 MB/s eta 0:00:01\n",
      "\u001b[?25hCollecting pydirectinput\n",
      "  Downloading PyDirectInput-1.0.4-py3-none-any.whl (8.9 kB)\n",
      "Collecting pytesseract\n",
      "  Downloading pytesseract-0.3.10-py3-none-any.whl (14 kB)\n",
      "Requirement already satisfied: packaging>=21.3 in /home/alexis/.local/lib/python3.8/site-packages (from pytesseract) (21.3)\n",
      "Requirement already satisfied: Pillow>=8.0.0 in /home/alexis/.local/lib/python3.8/site-packages (from pytesseract) (9.2.0)\n",
      "Requirement already satisfied: pyparsing!=3.0.5,>=2.0.2 in /home/alexis/.local/lib/python3.8/site-packages (from packaging>=21.3->pytesseract) (3.0.9)\n",
      "Installing collected packages: mss, pydirectinput, pytesseract\n",
      "\u001b[33m  WARNING: The script mss is installed in '/home/alexis/.local/bin' which is not on PATH.\n",
      "  Consider adding this directory to PATH or, if you prefer to suppress this warning, use --no-warn-script-location.\u001b[0m\n",
      "\u001b[33m  WARNING: The script pytesseract is installed in '/home/alexis/.local/bin' which is not on PATH.\n",
      "  Consider adding this directory to PATH or, if you prefer to suppress this warning, use --no-warn-script-location.\u001b[0m\n",
      "Successfully installed mss-6.1.0 pydirectinput-1.0.4 pytesseract-0.3.10\n"
     ]
    }
   ],
   "source": [
    "!pip install mss pydirectinput pytesseract"
   ]
  },
  {
   "cell_type": "code",
   "execution_count": 29,
   "metadata": {},
   "outputs": [
    {
     "name": "stdout",
     "output_type": "stream",
     "text": [
      "Collecting opencv-python\n",
      "  Downloading opencv_python-4.6.0.66-cp36-abi3-manylinux_2_17_x86_64.manylinux2014_x86_64.whl (60.9 MB)\n",
      "\u001b[K     |████████████████████████████████| 60.9 MB 6.9 MB/s eta 0:00:011\n",
      "\u001b[?25hRequirement already satisfied: numpy>=1.17.3; python_version >= \"3.8\" in /home/alexis/.local/lib/python3.8/site-packages (from opencv-python) (1.23.1)\n",
      "Installing collected packages: opencv-python\n",
      "Successfully installed opencv-python-4.6.0.66\n"
     ]
    }
   ],
   "source": [
    "!pip install opencv-python"
   ]
  },
  {
   "cell_type": "code",
   "execution_count": 37,
   "metadata": {},
   "outputs": [
    {
     "ename": "AttributeError",
     "evalue": "module 'ctypes' has no attribute 'windll'",
     "output_type": "error",
     "traceback": [
      "\u001b[0;31m---------------------------------------------------------------------------\u001b[0m",
      "\u001b[0;31mAttributeError\u001b[0m                            Traceback (most recent call last)",
      "\u001b[1;32m/home/alexis/Video_Game_DINO_AI/Video_Game_Dino_AI.ipynb Cell 6\u001b[0m in \u001b[0;36m<cell line: 2>\u001b[0;34m()\u001b[0m\n\u001b[1;32m      <a href='vscode-notebook-cell://wsl%2Bubuntu-20.04/home/alexis/Video_Game_DINO_AI/Video_Game_Dino_AI.ipynb#ch0000005vscode-remote?line=0'>1</a>\u001b[0m \u001b[39mfrom\u001b[39;00m \u001b[39mmss\u001b[39;00m \u001b[39mimport\u001b[39;00m mss\n\u001b[0;32m----> <a href='vscode-notebook-cell://wsl%2Bubuntu-20.04/home/alexis/Video_Game_DINO_AI/Video_Game_Dino_AI.ipynb#ch0000005vscode-remote?line=1'>2</a>\u001b[0m \u001b[39mimport\u001b[39;00m \u001b[39mpydirectinput\u001b[39;00m\n\u001b[1;32m      <a href='vscode-notebook-cell://wsl%2Bubuntu-20.04/home/alexis/Video_Game_DINO_AI/Video_Game_Dino_AI.ipynb#ch0000005vscode-remote?line=2'>3</a>\u001b[0m \u001b[39mimport\u001b[39;00m \u001b[39mcv2\u001b[39;00m\n\u001b[1;32m      <a href='vscode-notebook-cell://wsl%2Bubuntu-20.04/home/alexis/Video_Game_DINO_AI/Video_Game_Dino_AI.ipynb#ch0000005vscode-remote?line=3'>4</a>\u001b[0m \u001b[39mimport\u001b[39;00m \u001b[39mnumpy\u001b[39;00m \u001b[39mas\u001b[39;00m \u001b[39mnp\u001b[39;00m\n",
      "File \u001b[0;32m~/.local/lib/python3.8/site-packages/pydirectinput/__init__.py:6\u001b[0m, in \u001b[0;36m<module>\u001b[0;34m\u001b[0m\n\u001b[1;32m      3\u001b[0m \u001b[39mimport\u001b[39;00m \u001b[39minspect\u001b[39;00m\n\u001b[1;32m      4\u001b[0m \u001b[39mimport\u001b[39;00m \u001b[39mtime\u001b[39;00m\n\u001b[0;32m----> 6\u001b[0m SendInput \u001b[39m=\u001b[39m ctypes\u001b[39m.\u001b[39;49mwindll\u001b[39m.\u001b[39muser32\u001b[39m.\u001b[39mSendInput\n\u001b[1;32m      7\u001b[0m MapVirtualKey \u001b[39m=\u001b[39m ctypes\u001b[39m.\u001b[39mwindll\u001b[39m.\u001b[39muser32\u001b[39m.\u001b[39mMapVirtualKeyW\n\u001b[1;32m      9\u001b[0m \u001b[39m# Constants for failsafe check and pause\u001b[39;00m\n",
      "\u001b[0;31mAttributeError\u001b[0m: module 'ctypes' has no attribute 'windll'"
     ]
    }
   ],
   "source": [
    "from mss import mss\n",
    "import pydirectinput\n",
    "import cv2\n",
    "import numpy as np\n",
    "import pytesseract\n",
    "from matplotlib import pyplot as plt\n",
    "import time\n",
    "from gym import Env\n",
    "from gym.spaces import Box, Discrete"
   ]
  }
 ],
 "metadata": {
  "kernelspec": {
   "display_name": "Python 3.8.10 64-bit",
   "language": "python",
   "name": "python3"
  },
  "language_info": {
   "codemirror_mode": {
    "name": "ipython",
    "version": 3
   },
   "file_extension": ".py",
   "mimetype": "text/x-python",
   "name": "python",
   "nbconvert_exporter": "python",
   "pygments_lexer": "ipython3",
   "version": "3.8.10"
  },
  "orig_nbformat": 4,
  "vscode": {
   "interpreter": {
    "hash": "916dbcbb3f70747c44a77c7bcd40155683ae19c65e1c03b4aa3499c5328201f1"
   }
  }
 },
 "nbformat": 4,
 "nbformat_minor": 2
}
