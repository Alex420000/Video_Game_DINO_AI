{
 "cells": [
  {
   "cell_type": "code",
   "execution_count": 2,
   "metadata": {},
   "outputs": [
    {
     "name": "stdout",
     "output_type": "stream",
     "text": [
      "Looking in indexes: https://pypi.org/simple, https://download.pytorch.org/whl/cu113\n",
      "Requirement already satisfied: torch in /home/alexis/.local/lib/python3.8/site-packages (1.12.1+cu113)\n",
      "Requirement already satisfied: torchvision in /home/alexis/.local/lib/python3.8/site-packages (0.13.1+cu113)\n",
      "Requirement already satisfied: torchaudio in /home/alexis/.local/lib/python3.8/site-packages (0.12.1+cu113)\n",
      "Requirement already satisfied: typing-extensions in /home/alexis/.local/lib/python3.8/site-packages (from torch) (4.3.0)\n",
      "Requirement already satisfied: numpy in /home/alexis/.local/lib/python3.8/site-packages (from torchvision) (1.23.1)\n",
      "Requirement already satisfied: requests in /usr/lib/python3/dist-packages (from torchvision) (2.22.0)\n",
      "Requirement already satisfied: pillow!=8.3.*,>=5.3.0 in /home/alexis/.local/lib/python3.8/site-packages (from torchvision) (9.2.0)\n"
     ]
    }
   ],
   "source": [
    "!pip3 install torch torchvision torchaudio --extra-index-url https://download.pytorch.org/whl/cu113"
   ]
  },
  {
   "cell_type": "code",
   "execution_count": 7,
   "metadata": {},
   "outputs": [
    {
     "name": "stdout",
     "output_type": "stream",
     "text": [
      "Requirement already satisfied: stable-baselines3 in /home/alexis/.local/lib/python3.8/site-packages (1.6.0)\n",
      "Requirement already satisfied: gym==0.21 in /home/alexis/.local/lib/python3.8/site-packages (from stable-baselines3) (0.21.0)\n",
      "Requirement already satisfied: matplotlib in /home/alexis/.local/lib/python3.8/site-packages (from stable-baselines3) (3.5.2)\n",
      "Requirement already satisfied: torch>=1.11 in /home/alexis/.local/lib/python3.8/site-packages (from stable-baselines3) (1.12.1+cu113)\n",
      "Requirement already satisfied: numpy in /home/alexis/.local/lib/python3.8/site-packages (from stable-baselines3) (1.23.1)\n",
      "Requirement already satisfied: cloudpickle in /home/alexis/.local/lib/python3.8/site-packages (from stable-baselines3) (2.1.0)\n",
      "Requirement already satisfied: pandas in /home/alexis/.local/lib/python3.8/site-packages (from stable-baselines3) (1.4.4)\n",
      "Requirement already satisfied: kiwisolver>=1.0.1 in /home/alexis/.local/lib/python3.8/site-packages (from matplotlib->stable-baselines3) (1.4.4)\n",
      "Requirement already satisfied: packaging>=20.0 in /home/alexis/.local/lib/python3.8/site-packages (from matplotlib->stable-baselines3) (21.3)\n",
      "Requirement already satisfied: pillow>=6.2.0 in /home/alexis/.local/lib/python3.8/site-packages (from matplotlib->stable-baselines3) (9.2.0)\n",
      "Requirement already satisfied: pyparsing>=2.2.1 in /home/alexis/.local/lib/python3.8/site-packages (from matplotlib->stable-baselines3) (3.0.9)\n",
      "Requirement already satisfied: python-dateutil>=2.7 in /home/alexis/.local/lib/python3.8/site-packages (from matplotlib->stable-baselines3) (2.8.2)\n",
      "Requirement already satisfied: cycler>=0.10 in /home/alexis/.local/lib/python3.8/site-packages (from matplotlib->stable-baselines3) (0.11.0)\n",
      "Requirement already satisfied: fonttools>=4.22.0 in /home/alexis/.local/lib/python3.8/site-packages (from matplotlib->stable-baselines3) (4.34.4)\n",
      "Requirement already satisfied: typing-extensions in /home/alexis/.local/lib/python3.8/site-packages (from torch>=1.11->stable-baselines3) (4.3.0)\n",
      "Requirement already satisfied: pytz>=2020.1 in /home/alexis/.local/lib/python3.8/site-packages (from pandas->stable-baselines3) (2022.2.1)\n",
      "Requirement already satisfied: six>=1.5 in /usr/lib/python3/dist-packages (from python-dateutil>=2.7->matplotlib->stable-baselines3) (1.14.0)\n"
     ]
    }
   ],
   "source": [
    "!pip3 install stable-baselines3"
   ]
  },
  {
   "cell_type": "code",
   "execution_count": 6,
   "metadata": {},
   "outputs": [
    {
     "name": "stdout",
     "output_type": "stream",
     "text": [
      "Requirement already satisfied: mss in /home/alexis/.local/lib/python3.8/site-packages (6.1.0)\n",
      "Requirement already satisfied: pydirectinput in /home/alexis/.local/lib/python3.8/site-packages (1.0.4)\n",
      "Requirement already satisfied: pytesseract in /home/alexis/.local/lib/python3.8/site-packages (0.3.10)\n",
      "Requirement already satisfied: packaging>=21.3 in /home/alexis/.local/lib/python3.8/site-packages (from pytesseract) (21.3)\n",
      "Requirement already satisfied: Pillow>=8.0.0 in /home/alexis/.local/lib/python3.8/site-packages (from pytesseract) (9.2.0)\n",
      "Requirement already satisfied: pyparsing!=3.0.5,>=2.0.2 in /home/alexis/.local/lib/python3.8/site-packages (from packaging>=21.3->pytesseract) (3.0.9)\n"
     ]
    }
   ],
   "source": [
    "!pip3 install mss pydirectinput pytesseract"
   ]
  },
  {
   "cell_type": "code",
   "execution_count": 5,
   "metadata": {},
   "outputs": [
    {
     "name": "stdout",
     "output_type": "stream",
     "text": [
      "Requirement already satisfied: opencv-python in /home/alexis/.local/lib/python3.8/site-packages (4.6.0.66)\n",
      "Requirement already satisfied: numpy>=1.17.3; python_version >= \"3.8\" in /home/alexis/.local/lib/python3.8/site-packages (from opencv-python) (1.23.1)\n"
     ]
    }
   ],
   "source": [
    "!pip3 install opencv-python"
   ]
  },
  {
   "cell_type": "code",
   "execution_count": 4,
   "metadata": {},
   "outputs": [],
   "source": [
    "#chrome://dino/"
   ]
  },
  {
   "cell_type": "code",
   "execution_count": 172,
   "metadata": {},
   "outputs": [],
   "source": [
    "from mss import mss\n",
    "import pydirectinput\n",
    "import cv2\n",
    "import numpy as np\n",
    "import pytesseract\n",
    "from matplotlib import pyplot as plt\n",
    "import time\n",
    "from gym import Env\n",
    "from gym.spaces import Box, Discrete"
   ]
  },
  {
   "cell_type": "code",
   "execution_count": 171,
   "metadata": {},
   "outputs": [],
   "source": [
    "class DinoGame(Env):\n",
    "\n",
    "    def __init__(self):\n",
    "        super().__init__()\n",
    "\n",
    "        # Setup spaces\n",
    "        self.observation_space = Box(low=0, high=255, shape=(1,83,100), dtype=np.uint8)\n",
    "        self.action_space = Discrete(3)\n",
    "\n",
    "        # Capture game frames\n",
    "        self.cap = mss()\n",
    "        self.game_location = {'top': 300, 'left': 0, 'width': 600, 'height': 500}\n",
    "        self.done_location = {'top': 405, 'left': 630, 'width': 660, 'height': 70}\n",
    "\n",
    "    # What is called to do something in the game\n",
    "    def step(self, action):\n",
    "        # Action key - 0 = Space, 1 = Duck(down), 2 = No action (no op)\n",
    "        def step(self, action):\n",
    "            action_map = {\n",
    "                0:'space',\n",
    "                1: 'down', \n",
    "                2: 'no_op'\n",
    "            }\n",
    "            if action !=2:\n",
    "                pydirectinput.press(action_map[action])\n",
    "            done, done_cap = self.get_done()\n",
    "            observation = self.get_observation()\n",
    "            reward = 1 \n",
    "            info = {}\n",
    "            return observation, reward, done, info\n",
    "\n",
    "    # Restart the game\n",
    "    def reset(self):\n",
    "        time.sleep(1)\n",
    "        pydirectinput.click(x=150, y=150)\n",
    "        pydirectinput.press('space')\n",
    "        return self.get_observation()\n",
    "\n",
    "    # Visualize the game\n",
    "    def render(self):\n",
    "        cv2.imshow('Game', self.current_frame)\n",
    "        if cv2.waitKey(1) & 0xFF == ord('q'):\n",
    "            self.close()\n",
    "\n",
    "    # This closes down the observation\n",
    "    def close(self):\n",
    "        cv2.destroyAllWindows()\n",
    "\n",
    "    # Get the part of the observation of the game that we want\n",
    "    def get_observation(self):\n",
    "        raw = np.array(self.cap.grab(self.game_location))[:,:,:3].astype(np.uint8)\n",
    "        gray = cv2.cvtColor(raw, cv2.COLOR_BGR2GRAY)\n",
    "        resized = cv2.resize(gray, (100,83))\n",
    "        channel = np.reshape(resized, (1,83,100))\n",
    "        return channel\n",
    "\n",
    "    # Get the done text\n",
    "    def get_done(self):\n",
    "        done_cap = np.array(self.cap.grab(self.done_location))\n",
    "        done_strings = ['GAME', 'GAHE']\n",
    "        done=False\n",
    "        done = False\n",
    "        res = pytesseract.image_to_string(done_cap)[:4]\n",
    "        if res in done_strings:\n",
    "            done = True\n",
    "        return done, done_cap"
   ]
  }
 ],
 "metadata": {
  "kernelspec": {
   "display_name": "Python 3.8.10 64-bit",
   "language": "python",
   "name": "python3"
  },
  "language_info": {
   "codemirror_mode": {
    "name": "ipython",
    "version": 3
   },
   "file_extension": ".py",
   "mimetype": "text/x-python",
   "name": "python",
   "nbconvert_exporter": "python",
   "pygments_lexer": "ipython3",
   "version": "3.8.10"
  },
  "orig_nbformat": 4,
  "vscode": {
   "interpreter": {
    "hash": "31f2aee4e71d21fbe5cf8b01ff0e069b9275f58929596ceb00d14d90e3e16cd6"
   }
  }
 },
 "nbformat": 4,
 "nbformat_minor": 2
}
